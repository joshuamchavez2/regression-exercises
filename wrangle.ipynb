{
 "cells": [
  {
   "cell_type": "code",
   "execution_count": 60,
   "id": "7d94e7f4",
   "metadata": {},
   "outputs": [],
   "source": [
    "# Math \n",
    "from math import sqrt\n",
    "from scipy import stats\n",
    "import statistics\n",
    "import os\n",
    "\n",
    "# General\n",
    "import numpy as np\n",
    "import pandas as pd\n",
    "\n",
    "# Sklearn Modeling\n",
    "from sklearn.model_selection import train_test_split\n",
    "from sklearn.tree import DecisionTreeClassifier\n",
    "from sklearn.tree import export_graphviz\n",
    "from sklearn.metrics import classification_report\n",
    "from sklearn.metrics import confusion_matrix\n",
    "from sklearn.ensemble import RandomForestClassifier\n",
    "from sklearn.neighbors import KNeighborsClassifier\n",
    "from sklearn.linear_model import LogisticRegression\n",
    "\n",
    "# Visuals\n",
    "import matplotlib.pyplot as plt\n",
    "import seaborn as sns\n",
    "from graphviz import Graph\n",
    "from tabulate import tabulate\n",
    "\n",
    "# Custom Module's\n",
    "from wrangle import get_zillow_data\n",
    "\n",
    "\n",
    "import warnings\n",
    "warnings.filterwarnings(\"ignore\")"
   ]
  },
  {
   "cell_type": "markdown",
   "id": "93ce422d",
   "metadata": {},
   "source": [
    "# Acquire"
   ]
  },
  {
   "cell_type": "code",
   "execution_count": 61,
   "id": "5eecea12",
   "metadata": {},
   "outputs": [],
   "source": [
    "df = get_zillow_data()"
   ]
  },
  {
   "cell_type": "markdown",
   "id": "d785681d",
   "metadata": {},
   "source": [
    "# Peak into the data"
   ]
  },
  {
   "cell_type": "code",
   "execution_count": 62,
   "id": "8b27b06a",
   "metadata": {},
   "outputs": [
    {
     "name": "stdout",
     "output_type": "stream",
     "text": [
      "<class 'pandas.core.frame.DataFrame'>\n",
      "Int64Index: 2152863 entries, 0 to 2152862\n",
      "Data columns (total 8 columns):\n",
      " #   Column                        Dtype  \n",
      "---  ------                        -----  \n",
      " 0   bedroomcnt                    float64\n",
      " 1   bathroomcnt                   float64\n",
      " 2   calculatedfinishedsquarefeet  float64\n",
      " 3   taxvaluedollarcnt             float64\n",
      " 4   yearbuilt                     float64\n",
      " 5   taxamount                     float64\n",
      " 6   fips                          float64\n",
      " 7   propertylandusetypeid         float64\n",
      "dtypes: float64(8)\n",
      "memory usage: 147.8 MB\n"
     ]
    }
   ],
   "source": [
    "df.info()"
   ]
  },
  {
   "cell_type": "code",
   "execution_count": 63,
   "id": "c0fbb54d",
   "metadata": {},
   "outputs": [
    {
     "data": {
      "text/html": [
       "<div>\n",
       "<style scoped>\n",
       "    .dataframe tbody tr th:only-of-type {\n",
       "        vertical-align: middle;\n",
       "    }\n",
       "\n",
       "    .dataframe tbody tr th {\n",
       "        vertical-align: top;\n",
       "    }\n",
       "\n",
       "    .dataframe thead th {\n",
       "        text-align: right;\n",
       "    }\n",
       "</style>\n",
       "<table border=\"1\" class=\"dataframe\">\n",
       "  <thead>\n",
       "    <tr style=\"text-align: right;\">\n",
       "      <th></th>\n",
       "      <th>count</th>\n",
       "      <th>mean</th>\n",
       "      <th>std</th>\n",
       "      <th>min</th>\n",
       "      <th>25%</th>\n",
       "      <th>50%</th>\n",
       "      <th>75%</th>\n",
       "      <th>max</th>\n",
       "    </tr>\n",
       "  </thead>\n",
       "  <tbody>\n",
       "    <tr>\n",
       "      <th>bedroomcnt</th>\n",
       "      <td>2152852.0</td>\n",
       "      <td>3.287196</td>\n",
       "      <td>0.954754</td>\n",
       "      <td>0.00</td>\n",
       "      <td>3.00</td>\n",
       "      <td>3.00</td>\n",
       "      <td>4.00</td>\n",
       "      <td>25.00</td>\n",
       "    </tr>\n",
       "    <tr>\n",
       "      <th>bathroomcnt</th>\n",
       "      <td>2152852.0</td>\n",
       "      <td>2.230688</td>\n",
       "      <td>0.999280</td>\n",
       "      <td>0.00</td>\n",
       "      <td>2.00</td>\n",
       "      <td>2.00</td>\n",
       "      <td>3.00</td>\n",
       "      <td>32.00</td>\n",
       "    </tr>\n",
       "    <tr>\n",
       "      <th>calculatedfinishedsquarefeet</th>\n",
       "      <td>2144379.0</td>\n",
       "      <td>1862.855178</td>\n",
       "      <td>1222.125124</td>\n",
       "      <td>1.00</td>\n",
       "      <td>1257.00</td>\n",
       "      <td>1623.00</td>\n",
       "      <td>2208.00</td>\n",
       "      <td>952576.00</td>\n",
       "    </tr>\n",
       "    <tr>\n",
       "      <th>taxvaluedollarcnt</th>\n",
       "      <td>2152370.0</td>\n",
       "      <td>461896.237963</td>\n",
       "      <td>699676.049600</td>\n",
       "      <td>1.00</td>\n",
       "      <td>188170.25</td>\n",
       "      <td>327671.00</td>\n",
       "      <td>534527.00</td>\n",
       "      <td>98428909.00</td>\n",
       "    </tr>\n",
       "    <tr>\n",
       "      <th>yearbuilt</th>\n",
       "      <td>2143526.0</td>\n",
       "      <td>1960.949681</td>\n",
       "      <td>22.162196</td>\n",
       "      <td>1801.00</td>\n",
       "      <td>1949.00</td>\n",
       "      <td>1958.00</td>\n",
       "      <td>1976.00</td>\n",
       "      <td>2016.00</td>\n",
       "    </tr>\n",
       "    <tr>\n",
       "      <th>taxamount</th>\n",
       "      <td>2148421.0</td>\n",
       "      <td>5634.865978</td>\n",
       "      <td>8178.910249</td>\n",
       "      <td>1.85</td>\n",
       "      <td>2534.98</td>\n",
       "      <td>4108.95</td>\n",
       "      <td>6414.32</td>\n",
       "      <td>1337755.86</td>\n",
       "    </tr>\n",
       "    <tr>\n",
       "      <th>fips</th>\n",
       "      <td>2152863.0</td>\n",
       "      <td>6048.377335</td>\n",
       "      <td>20.433292</td>\n",
       "      <td>6037.00</td>\n",
       "      <td>6037.00</td>\n",
       "      <td>6037.00</td>\n",
       "      <td>6059.00</td>\n",
       "      <td>6111.00</td>\n",
       "    </tr>\n",
       "    <tr>\n",
       "      <th>propertylandusetypeid</th>\n",
       "      <td>2152863.0</td>\n",
       "      <td>261.000000</td>\n",
       "      <td>0.000000</td>\n",
       "      <td>261.00</td>\n",
       "      <td>261.00</td>\n",
       "      <td>261.00</td>\n",
       "      <td>261.00</td>\n",
       "      <td>261.00</td>\n",
       "    </tr>\n",
       "  </tbody>\n",
       "</table>\n",
       "</div>"
      ],
      "text/plain": [
       "                                  count           mean            std  \\\n",
       "bedroomcnt                    2152852.0       3.287196       0.954754   \n",
       "bathroomcnt                   2152852.0       2.230688       0.999280   \n",
       "calculatedfinishedsquarefeet  2144379.0    1862.855178    1222.125124   \n",
       "taxvaluedollarcnt             2152370.0  461896.237963  699676.049600   \n",
       "yearbuilt                     2143526.0    1960.949681      22.162196   \n",
       "taxamount                     2148421.0    5634.865978    8178.910249   \n",
       "fips                          2152863.0    6048.377335      20.433292   \n",
       "propertylandusetypeid         2152863.0     261.000000       0.000000   \n",
       "\n",
       "                                  min        25%        50%        75%  \\\n",
       "bedroomcnt                       0.00       3.00       3.00       4.00   \n",
       "bathroomcnt                      0.00       2.00       2.00       3.00   \n",
       "calculatedfinishedsquarefeet     1.00    1257.00    1623.00    2208.00   \n",
       "taxvaluedollarcnt                1.00  188170.25  327671.00  534527.00   \n",
       "yearbuilt                     1801.00    1949.00    1958.00    1976.00   \n",
       "taxamount                        1.85    2534.98    4108.95    6414.32   \n",
       "fips                          6037.00    6037.00    6037.00    6059.00   \n",
       "propertylandusetypeid          261.00     261.00     261.00     261.00   \n",
       "\n",
       "                                      max  \n",
       "bedroomcnt                          25.00  \n",
       "bathroomcnt                         32.00  \n",
       "calculatedfinishedsquarefeet    952576.00  \n",
       "taxvaluedollarcnt             98428909.00  \n",
       "yearbuilt                         2016.00  \n",
       "taxamount                      1337755.86  \n",
       "fips                              6111.00  \n",
       "propertylandusetypeid              261.00  "
      ]
     },
     "execution_count": 63,
     "metadata": {},
     "output_type": "execute_result"
    }
   ],
   "source": [
    "df.describe().T"
   ]
  },
  {
   "cell_type": "code",
   "execution_count": 64,
   "id": "1ab3180e",
   "metadata": {},
   "outputs": [
    {
     "data": {
      "text/plain": [
       "(2152863, 8)"
      ]
     },
     "execution_count": 64,
     "metadata": {},
     "output_type": "execute_result"
    }
   ],
   "source": [
    "df.shape"
   ]
  },
  {
   "cell_type": "code",
   "execution_count": 65,
   "id": "78c518cb",
   "metadata": {},
   "outputs": [
    {
     "data": {
      "text/html": [
       "<div>\n",
       "<style scoped>\n",
       "    .dataframe tbody tr th:only-of-type {\n",
       "        vertical-align: middle;\n",
       "    }\n",
       "\n",
       "    .dataframe tbody tr th {\n",
       "        vertical-align: top;\n",
       "    }\n",
       "\n",
       "    .dataframe thead th {\n",
       "        text-align: right;\n",
       "    }\n",
       "</style>\n",
       "<table border=\"1\" class=\"dataframe\">\n",
       "  <thead>\n",
       "    <tr style=\"text-align: right;\">\n",
       "      <th></th>\n",
       "      <th>bedroomcnt</th>\n",
       "      <th>bathroomcnt</th>\n",
       "      <th>calculatedfinishedsquarefeet</th>\n",
       "      <th>taxvaluedollarcnt</th>\n",
       "      <th>yearbuilt</th>\n",
       "      <th>taxamount</th>\n",
       "      <th>fips</th>\n",
       "      <th>propertylandusetypeid</th>\n",
       "    </tr>\n",
       "  </thead>\n",
       "  <tbody>\n",
       "    <tr>\n",
       "      <th>0</th>\n",
       "      <td>0.0</td>\n",
       "      <td>0.0</td>\n",
       "      <td>NaN</td>\n",
       "      <td>27516.0</td>\n",
       "      <td>NaN</td>\n",
       "      <td>NaN</td>\n",
       "      <td>6037.0</td>\n",
       "      <td>261.0</td>\n",
       "    </tr>\n",
       "    <tr>\n",
       "      <th>1</th>\n",
       "      <td>0.0</td>\n",
       "      <td>0.0</td>\n",
       "      <td>NaN</td>\n",
       "      <td>10.0</td>\n",
       "      <td>NaN</td>\n",
       "      <td>NaN</td>\n",
       "      <td>6037.0</td>\n",
       "      <td>261.0</td>\n",
       "    </tr>\n",
       "    <tr>\n",
       "      <th>2</th>\n",
       "      <td>0.0</td>\n",
       "      <td>0.0</td>\n",
       "      <td>NaN</td>\n",
       "      <td>10.0</td>\n",
       "      <td>NaN</td>\n",
       "      <td>NaN</td>\n",
       "      <td>6037.0</td>\n",
       "      <td>261.0</td>\n",
       "    </tr>\n",
       "    <tr>\n",
       "      <th>3</th>\n",
       "      <td>0.0</td>\n",
       "      <td>0.0</td>\n",
       "      <td>NaN</td>\n",
       "      <td>2108.0</td>\n",
       "      <td>NaN</td>\n",
       "      <td>174.21</td>\n",
       "      <td>6037.0</td>\n",
       "      <td>261.0</td>\n",
       "    </tr>\n",
       "    <tr>\n",
       "      <th>4</th>\n",
       "      <td>4.0</td>\n",
       "      <td>2.0</td>\n",
       "      <td>3633.0</td>\n",
       "      <td>296425.0</td>\n",
       "      <td>2005.0</td>\n",
       "      <td>6941.39</td>\n",
       "      <td>6037.0</td>\n",
       "      <td>261.0</td>\n",
       "    </tr>\n",
       "  </tbody>\n",
       "</table>\n",
       "</div>"
      ],
      "text/plain": [
       "   bedroomcnt  bathroomcnt  calculatedfinishedsquarefeet  taxvaluedollarcnt  \\\n",
       "0         0.0          0.0                           NaN            27516.0   \n",
       "1         0.0          0.0                           NaN               10.0   \n",
       "2         0.0          0.0                           NaN               10.0   \n",
       "3         0.0          0.0                           NaN             2108.0   \n",
       "4         4.0          2.0                        3633.0           296425.0   \n",
       "\n",
       "   yearbuilt  taxamount    fips  propertylandusetypeid  \n",
       "0        NaN        NaN  6037.0                  261.0  \n",
       "1        NaN        NaN  6037.0                  261.0  \n",
       "2        NaN        NaN  6037.0                  261.0  \n",
       "3        NaN     174.21  6037.0                  261.0  \n",
       "4     2005.0    6941.39  6037.0                  261.0  "
      ]
     },
     "execution_count": 65,
     "metadata": {},
     "output_type": "execute_result"
    }
   ],
   "source": [
    "df.head()"
   ]
  },
  {
   "cell_type": "markdown",
   "id": "298bb8ee",
   "metadata": {},
   "source": [
    "# Clean"
   ]
  },
  {
   "cell_type": "markdown",
   "id": "137c22a8",
   "metadata": {},
   "source": [
    "#### Drop Null Values\n",
    "\n",
    "I'm not really sure if I should impute missing values or drop them.  For the moment I will drop them and look into what would be a good method to use if I did want to impute."
   ]
  },
  {
   "cell_type": "code",
   "execution_count": 66,
   "id": "05d8f4cf",
   "metadata": {},
   "outputs": [
    {
     "data": {
      "text/plain": [
       "bedroomcnt                        11\n",
       "bathroomcnt                       11\n",
       "calculatedfinishedsquarefeet    8484\n",
       "taxvaluedollarcnt                493\n",
       "yearbuilt                       9337\n",
       "taxamount                       4442\n",
       "fips                               0\n",
       "propertylandusetypeid              0\n",
       "dtype: int64"
      ]
     },
     "execution_count": 66,
     "metadata": {},
     "output_type": "execute_result"
    }
   ],
   "source": [
    "df.isnull().sum()"
   ]
  },
  {
   "cell_type": "code",
   "execution_count": 67,
   "id": "b7c8d620",
   "metadata": {},
   "outputs": [],
   "source": [
    "df = df.replace(r'^\\s*$', np.nan, regex=True)\n",
    "df = df.dropna()"
   ]
  },
  {
   "cell_type": "code",
   "execution_count": 68,
   "id": "bac4de32",
   "metadata": {},
   "outputs": [
    {
     "data": {
      "text/plain": [
       "bedroomcnt                      0\n",
       "bathroomcnt                     0\n",
       "calculatedfinishedsquarefeet    0\n",
       "taxvaluedollarcnt               0\n",
       "yearbuilt                       0\n",
       "taxamount                       0\n",
       "fips                            0\n",
       "propertylandusetypeid           0\n",
       "dtype: int64"
      ]
     },
     "execution_count": 68,
     "metadata": {},
     "output_type": "execute_result"
    }
   ],
   "source": [
    "df.isnull().sum()"
   ]
  },
  {
   "cell_type": "markdown",
   "id": "e6d0827d",
   "metadata": {},
   "source": [
    "# Change Data Type"
   ]
  },
  {
   "cell_type": "code",
   "execution_count": 69,
   "id": "7cad0257",
   "metadata": {},
   "outputs": [
    {
     "name": "stdout",
     "output_type": "stream",
     "text": [
      "<class 'pandas.core.frame.DataFrame'>\n",
      "Int64Index: 2140235 entries, 4 to 2152862\n",
      "Data columns (total 8 columns):\n",
      " #   Column                        Dtype  \n",
      "---  ------                        -----  \n",
      " 0   bedroomcnt                    float64\n",
      " 1   bathroomcnt                   float64\n",
      " 2   calculatedfinishedsquarefeet  float64\n",
      " 3   taxvaluedollarcnt             float64\n",
      " 4   yearbuilt                     float64\n",
      " 5   taxamount                     float64\n",
      " 6   fips                          float64\n",
      " 7   propertylandusetypeid         float64\n",
      "dtypes: float64(8)\n",
      "memory usage: 147.0 MB\n"
     ]
    }
   ],
   "source": [
    "df.info()"
   ]
  },
  {
   "cell_type": "markdown",
   "id": "9aabd21f",
   "metadata": {},
   "source": [
    "#### Only TaxValue, Tax Amount, and bathroomcnt, need to stay floats.  The rest convert into int"
   ]
  },
  {
   "cell_type": "code",
   "execution_count": 70,
   "id": "11bcd400",
   "metadata": {},
   "outputs": [],
   "source": [
    "to_int = ['bedroomcnt', 'calculatedfinishedsquarefeet', 'yearbuilt', 'fips', 'propertylandusetypeid']\n",
    "int_df = df[to_int].astype('int')\n",
    "df = df.drop(columns=to_int)\n",
    "df = pd.concat([df, int_df], axis = 1)"
   ]
  },
  {
   "cell_type": "code",
   "execution_count": 75,
   "id": "aaa37364",
   "metadata": {},
   "outputs": [
    {
     "name": "stdout",
     "output_type": "stream",
     "text": [
      "<class 'pandas.core.frame.DataFrame'>\n",
      "Int64Index: 2140235 entries, 4 to 2152862\n",
      "Data columns (total 8 columns):\n",
      " #   Column                        Dtype  \n",
      "---  ------                        -----  \n",
      " 0   bathroomcnt                   float64\n",
      " 1   taxvaluedollarcnt             float64\n",
      " 2   taxamount                     float64\n",
      " 3   bedroomcnt                    int64  \n",
      " 4   calculatedfinishedsquarefeet  int64  \n",
      " 5   yearbuilt                     int64  \n",
      " 6   fips                          int64  \n",
      " 7   propertylandusetypeid         int64  \n",
      "dtypes: float64(3), int64(5)\n",
      "memory usage: 147.0 MB\n"
     ]
    }
   ],
   "source": [
    "df.info()"
   ]
  },
  {
   "cell_type": "code",
   "execution_count": 72,
   "id": "6f12cf5c",
   "metadata": {},
   "outputs": [],
   "source": [
    "def clean_zillow_data(df):\n",
    "    df = df.replace(r'^\\s*$', np.nan, regex=True)\n",
    "    df = df.dropna()\n",
    "    to_int = ['bedroomcnt', 'calculatedfinishedsquarefeet', 'yearbuilt', 'fips', 'propertylandusetypeid']\n",
    "    int_df = df[to_int].astype('int')\n",
    "    df = df.drop(columns=to_int)\n",
    "    df = pd.concat([df, int_df], axis = 1)\n",
    "    return df"
   ]
  },
  {
   "cell_type": "markdown",
   "id": "1d12b47b",
   "metadata": {},
   "source": [
    "# Visualize"
   ]
  },
  {
   "cell_type": "code",
   "execution_count": 76,
   "id": "0741fd4d",
   "metadata": {},
   "outputs": [
    {
     "data": {
      "text/plain": [
       "['bathroomcnt',\n",
       " 'taxvaluedollarcnt',\n",
       " 'taxamount',\n",
       " 'bedroomcnt',\n",
       " 'calculatedfinishedsquarefeet',\n",
       " 'yearbuilt',\n",
       " 'fips',\n",
       " 'propertylandusetypeid']"
      ]
     },
     "execution_count": 76,
     "metadata": {},
     "output_type": "execute_result"
    }
   ],
   "source": [
    "cols = list(df.columns)\n",
    "cols"
   ]
  },
  {
   "cell_type": "code",
   "execution_count": 102,
   "id": "1d54e78a",
   "metadata": {},
   "outputs": [
    {
     "data": {
      "image/png": "[encoded data removed]",
      "text/plain": [
       "<Figure size 1152x216 with 8 Axes>"
      ]
     },
     "metadata": {
      "needs_background": "light"
     },
     "output_type": "display_data"
    }
   ],
   "source": [
    "plt.figure(figsize=(16, 3))\n",
    "\n",
    "# List of columns\n",
    "\n",
    "for i, col in enumerate(cols):\n",
    "    \n",
    "    # i starts at 0, but plot nos should start at 1\n",
    "    plot_number = i + 1 \n",
    "    \n",
    "    # Create subplot.\n",
    "    plt.subplot(1,8, plot_number)\n",
    "    \n",
    "    # Title with column name.\n",
    "    plt.title(col)\n",
    "    \n",
    "    # Display histogram for column.\n",
    "    df[col].hist(bins=6, edgecolor='black')\n",
    "    \n",
    "    #spacing\n",
    "    plt.tight_layout()\n",
    "    \n",
    "    # Hide gridlines.\n",
    "    plt.grid(False)"
   ]
  },
  {
   "cell_type": "code",
   "execution_count": null,
   "id": "028fa788",
   "metadata": {},
   "outputs": [],
   "source": []
  },
  {
   "cell_type": "code",
   "execution_count": null,
   "id": "b2545c30",
   "metadata": {},
   "outputs": [],
   "source": []
  }
 ],
 "metadata": {
  "kernelspec": {
   "display_name": "Python 3",
   "language": "python",
   "name": "python3"
  },
  "language_info": {
   "codemirror_mode": {
    "name": "ipython",
    "version": 3
   },
   "file_extension": ".py",
   "mimetype": "text/x-python",
   "name": "python",
   "nbconvert_exporter": "python",
   "pygments_lexer": "ipython3",
   "version": "3.8.8"
  }
 },
 "nbformat": 4,
 "nbformat_minor": 5
}
