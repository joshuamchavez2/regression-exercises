{
 "cells": [
  {
   "cell_type": "code",
   "execution_count": 59,
   "id": "71c94ba9",
   "metadata": {},
   "outputs": [],
   "source": [
    "# Math \n",
    "from math import sqrt\n",
    "from scipy import stats\n",
    "import statistics\n",
    "import os\n",
    "\n",
    "# General\n",
    "import numpy as np\n",
    "import pandas as pd\n",
    "\n",
    "# Sklearn Modeling\n",
    "from sklearn.model_selection import train_test_split\n",
    "from sklearn.tree import DecisionTreeClassifier\n",
    "from sklearn.tree import export_graphviz\n",
    "from sklearn.metrics import classification_report\n",
    "from sklearn.metrics import confusion_matrix\n",
    "from sklearn.ensemble import RandomForestClassifier\n",
    "from sklearn.neighbors import KNeighborsClassifier\n",
    "from sklearn.linear_model import LogisticRegression\n",
    "from sklearn.linear_model import LinearRegression\n",
    "import sklearn.preprocessing\n",
    "from sklearn.feature_selection import SelectKBest, f_regression\n",
    "# Visuals\n",
    "import matplotlib.pyplot as plt\n",
    "import seaborn as sns\n",
    "from graphviz import Graph\n",
    "from tabulate import tabulate\n",
    "\n",
    "# Custom Module's\n",
    "from wrangle import wrangle_zillow, remove_outliers\n",
    "from prepare import add_scaled_columns\n",
    "\n",
    "from pydataset import data\n",
    "\n",
    "import warnings\n",
    "warnings.filterwarnings(\"ignore\")"
   ]
  },
  {
   "cell_type": "markdown",
   "id": "f10a95a7",
   "metadata": {},
   "source": [
    "## Load the tips dataset."
   ]
  },
  {
   "cell_type": "code",
   "execution_count": 60,
   "id": "3354570e",
   "metadata": {},
   "outputs": [],
   "source": [
    "df = data(\"tips\")"
   ]
  },
  {
   "cell_type": "code",
   "execution_count": 61,
   "id": "6232034d",
   "metadata": {},
   "outputs": [
    {
     "name": "stdout",
     "output_type": "stream",
     "text": [
      "<class 'pandas.core.frame.DataFrame'>\n",
      "Int64Index: 244 entries, 1 to 244\n",
      "Data columns (total 7 columns):\n",
      " #   Column      Non-Null Count  Dtype  \n",
      "---  ------      --------------  -----  \n",
      " 0   total_bill  244 non-null    float64\n",
      " 1   tip         244 non-null    float64\n",
      " 2   sex         244 non-null    object \n",
      " 3   smoker      244 non-null    object \n",
      " 4   day         244 non-null    object \n",
      " 5   time        244 non-null    object \n",
      " 6   size        244 non-null    int64  \n",
      "dtypes: float64(2), int64(1), object(4)\n",
      "memory usage: 15.2+ KB\n"
     ]
    }
   ],
   "source": [
    "df.info()"
   ]
  },
  {
   "cell_type": "code",
   "execution_count": 62,
   "id": "a6a67a33",
   "metadata": {},
   "outputs": [
    {
     "data": {
      "text/html": [
       "<div>\n",
       "<style scoped>\n",
       "    .dataframe tbody tr th:only-of-type {\n",
       "        vertical-align: middle;\n",
       "    }\n",
       "\n",
       "    .dataframe tbody tr th {\n",
       "        vertical-align: top;\n",
       "    }\n",
       "\n",
       "    .dataframe thead th {\n",
       "        text-align: right;\n",
       "    }\n",
       "</style>\n",
       "<table border=\"1\" class=\"dataframe\">\n",
       "  <thead>\n",
       "    <tr style=\"text-align: right;\">\n",
       "      <th></th>\n",
       "      <th>total_bill</th>\n",
       "      <th>tip</th>\n",
       "      <th>sex</th>\n",
       "      <th>smoker</th>\n",
       "      <th>day</th>\n",
       "      <th>time</th>\n",
       "      <th>size</th>\n",
       "    </tr>\n",
       "  </thead>\n",
       "  <tbody>\n",
       "    <tr>\n",
       "      <th>1</th>\n",
       "      <td>16.99</td>\n",
       "      <td>1.01</td>\n",
       "      <td>Female</td>\n",
       "      <td>No</td>\n",
       "      <td>Sun</td>\n",
       "      <td>Dinner</td>\n",
       "      <td>2</td>\n",
       "    </tr>\n",
       "    <tr>\n",
       "      <th>2</th>\n",
       "      <td>10.34</td>\n",
       "      <td>1.66</td>\n",
       "      <td>Male</td>\n",
       "      <td>No</td>\n",
       "      <td>Sun</td>\n",
       "      <td>Dinner</td>\n",
       "      <td>3</td>\n",
       "    </tr>\n",
       "    <tr>\n",
       "      <th>3</th>\n",
       "      <td>21.01</td>\n",
       "      <td>3.50</td>\n",
       "      <td>Male</td>\n",
       "      <td>No</td>\n",
       "      <td>Sun</td>\n",
       "      <td>Dinner</td>\n",
       "      <td>3</td>\n",
       "    </tr>\n",
       "    <tr>\n",
       "      <th>4</th>\n",
       "      <td>23.68</td>\n",
       "      <td>3.31</td>\n",
       "      <td>Male</td>\n",
       "      <td>No</td>\n",
       "      <td>Sun</td>\n",
       "      <td>Dinner</td>\n",
       "      <td>2</td>\n",
       "    </tr>\n",
       "    <tr>\n",
       "      <th>5</th>\n",
       "      <td>24.59</td>\n",
       "      <td>3.61</td>\n",
       "      <td>Female</td>\n",
       "      <td>No</td>\n",
       "      <td>Sun</td>\n",
       "      <td>Dinner</td>\n",
       "      <td>4</td>\n",
       "    </tr>\n",
       "  </tbody>\n",
       "</table>\n",
       "</div>"
      ],
      "text/plain": [
       "   total_bill   tip     sex smoker  day    time  size\n",
       "1       16.99  1.01  Female     No  Sun  Dinner     2\n",
       "2       10.34  1.66    Male     No  Sun  Dinner     3\n",
       "3       21.01  3.50    Male     No  Sun  Dinner     3\n",
       "4       23.68  3.31    Male     No  Sun  Dinner     2\n",
       "5       24.59  3.61  Female     No  Sun  Dinner     4"
      ]
     },
     "execution_count": 62,
     "metadata": {},
     "output_type": "execute_result"
    }
   ],
   "source": [
    "df.head()"
   ]
  },
  {
   "cell_type": "markdown",
   "id": "d49cd3e6",
   "metadata": {},
   "source": [
    "### Create a column named tip_percentage. This should be the tip amount divided by the total bill."
   ]
  },
  {
   "cell_type": "code",
   "execution_count": 63,
   "id": "c42b698e",
   "metadata": {},
   "outputs": [],
   "source": [
    "df[\"tip_percentage\"] = df.tip/df.total_bill"
   ]
  },
  {
   "cell_type": "code",
   "execution_count": 64,
   "id": "9254a58a",
   "metadata": {},
   "outputs": [
    {
     "data": {
      "text/html": [
       "<div>\n",
       "<style scoped>\n",
       "    .dataframe tbody tr th:only-of-type {\n",
       "        vertical-align: middle;\n",
       "    }\n",
       "\n",
       "    .dataframe tbody tr th {\n",
       "        vertical-align: top;\n",
       "    }\n",
       "\n",
       "    .dataframe thead th {\n",
       "        text-align: right;\n",
       "    }\n",
       "</style>\n",
       "<table border=\"1\" class=\"dataframe\">\n",
       "  <thead>\n",
       "    <tr style=\"text-align: right;\">\n",
       "      <th></th>\n",
       "      <th>total_bill</th>\n",
       "      <th>tip</th>\n",
       "      <th>sex</th>\n",
       "      <th>smoker</th>\n",
       "      <th>day</th>\n",
       "      <th>time</th>\n",
       "      <th>size</th>\n",
       "      <th>tip_percentage</th>\n",
       "    </tr>\n",
       "  </thead>\n",
       "  <tbody>\n",
       "    <tr>\n",
       "      <th>1</th>\n",
       "      <td>16.99</td>\n",
       "      <td>1.01</td>\n",
       "      <td>Female</td>\n",
       "      <td>No</td>\n",
       "      <td>Sun</td>\n",
       "      <td>Dinner</td>\n",
       "      <td>2</td>\n",
       "      <td>0.059447</td>\n",
       "    </tr>\n",
       "    <tr>\n",
       "      <th>2</th>\n",
       "      <td>10.34</td>\n",
       "      <td>1.66</td>\n",
       "      <td>Male</td>\n",
       "      <td>No</td>\n",
       "      <td>Sun</td>\n",
       "      <td>Dinner</td>\n",
       "      <td>3</td>\n",
       "      <td>0.160542</td>\n",
       "    </tr>\n",
       "    <tr>\n",
       "      <th>3</th>\n",
       "      <td>21.01</td>\n",
       "      <td>3.50</td>\n",
       "      <td>Male</td>\n",
       "      <td>No</td>\n",
       "      <td>Sun</td>\n",
       "      <td>Dinner</td>\n",
       "      <td>3</td>\n",
       "      <td>0.166587</td>\n",
       "    </tr>\n",
       "    <tr>\n",
       "      <th>4</th>\n",
       "      <td>23.68</td>\n",
       "      <td>3.31</td>\n",
       "      <td>Male</td>\n",
       "      <td>No</td>\n",
       "      <td>Sun</td>\n",
       "      <td>Dinner</td>\n",
       "      <td>2</td>\n",
       "      <td>0.139780</td>\n",
       "    </tr>\n",
       "    <tr>\n",
       "      <th>5</th>\n",
       "      <td>24.59</td>\n",
       "      <td>3.61</td>\n",
       "      <td>Female</td>\n",
       "      <td>No</td>\n",
       "      <td>Sun</td>\n",
       "      <td>Dinner</td>\n",
       "      <td>4</td>\n",
       "      <td>0.146808</td>\n",
       "    </tr>\n",
       "  </tbody>\n",
       "</table>\n",
       "</div>"
      ],
      "text/plain": [
       "   total_bill   tip     sex smoker  day    time  size  tip_percentage\n",
       "1       16.99  1.01  Female     No  Sun  Dinner     2        0.059447\n",
       "2       10.34  1.66    Male     No  Sun  Dinner     3        0.160542\n",
       "3       21.01  3.50    Male     No  Sun  Dinner     3        0.166587\n",
       "4       23.68  3.31    Male     No  Sun  Dinner     2        0.139780\n",
       "5       24.59  3.61  Female     No  Sun  Dinner     4        0.146808"
      ]
     },
     "execution_count": 64,
     "metadata": {},
     "output_type": "execute_result"
    }
   ],
   "source": [
    "df.head()"
   ]
  },
  {
   "cell_type": "markdown",
   "id": "42c13c8a",
   "metadata": {},
   "source": [
    "### Create a column named price_per_person. This should be the total bill divided by the party size."
   ]
  },
  {
   "cell_type": "code",
   "execution_count": 65,
   "id": "1047ffd1",
   "metadata": {},
   "outputs": [],
   "source": [
    "df[\"price_per_person\"] = df.total_bill/df.size"
   ]
  },
  {
   "cell_type": "code",
   "execution_count": 66,
   "id": "a8586d1a",
   "metadata": {},
   "outputs": [
    {
     "data": {
      "text/html": [
       "<div>\n",
       "<style scoped>\n",
       "    .dataframe tbody tr th:only-of-type {\n",
       "        vertical-align: middle;\n",
       "    }\n",
       "\n",
       "    .dataframe tbody tr th {\n",
       "        vertical-align: top;\n",
       "    }\n",
       "\n",
       "    .dataframe thead th {\n",
       "        text-align: right;\n",
       "    }\n",
       "</style>\n",
       "<table border=\"1\" class=\"dataframe\">\n",
       "  <thead>\n",
       "    <tr style=\"text-align: right;\">\n",
       "      <th></th>\n",
       "      <th>total_bill</th>\n",
       "      <th>tip</th>\n",
       "      <th>sex</th>\n",
       "      <th>smoker</th>\n",
       "      <th>day</th>\n",
       "      <th>time</th>\n",
       "      <th>size</th>\n",
       "      <th>tip_percentage</th>\n",
       "      <th>price_per_person</th>\n",
       "    </tr>\n",
       "  </thead>\n",
       "  <tbody>\n",
       "    <tr>\n",
       "      <th>1</th>\n",
       "      <td>16.99</td>\n",
       "      <td>1.01</td>\n",
       "      <td>Female</td>\n",
       "      <td>No</td>\n",
       "      <td>Sun</td>\n",
       "      <td>Dinner</td>\n",
       "      <td>2</td>\n",
       "      <td>0.059447</td>\n",
       "      <td>0.008704</td>\n",
       "    </tr>\n",
       "    <tr>\n",
       "      <th>2</th>\n",
       "      <td>10.34</td>\n",
       "      <td>1.66</td>\n",
       "      <td>Male</td>\n",
       "      <td>No</td>\n",
       "      <td>Sun</td>\n",
       "      <td>Dinner</td>\n",
       "      <td>3</td>\n",
       "      <td>0.160542</td>\n",
       "      <td>0.005297</td>\n",
       "    </tr>\n",
       "    <tr>\n",
       "      <th>3</th>\n",
       "      <td>21.01</td>\n",
       "      <td>3.50</td>\n",
       "      <td>Male</td>\n",
       "      <td>No</td>\n",
       "      <td>Sun</td>\n",
       "      <td>Dinner</td>\n",
       "      <td>3</td>\n",
       "      <td>0.166587</td>\n",
       "      <td>0.010763</td>\n",
       "    </tr>\n",
       "    <tr>\n",
       "      <th>4</th>\n",
       "      <td>23.68</td>\n",
       "      <td>3.31</td>\n",
       "      <td>Male</td>\n",
       "      <td>No</td>\n",
       "      <td>Sun</td>\n",
       "      <td>Dinner</td>\n",
       "      <td>2</td>\n",
       "      <td>0.139780</td>\n",
       "      <td>0.012131</td>\n",
       "    </tr>\n",
       "    <tr>\n",
       "      <th>5</th>\n",
       "      <td>24.59</td>\n",
       "      <td>3.61</td>\n",
       "      <td>Female</td>\n",
       "      <td>No</td>\n",
       "      <td>Sun</td>\n",
       "      <td>Dinner</td>\n",
       "      <td>4</td>\n",
       "      <td>0.146808</td>\n",
       "      <td>0.012597</td>\n",
       "    </tr>\n",
       "  </tbody>\n",
       "</table>\n",
       "</div>"
      ],
      "text/plain": [
       "   total_bill   tip     sex smoker  day    time  size  tip_percentage  \\\n",
       "1       16.99  1.01  Female     No  Sun  Dinner     2        0.059447   \n",
       "2       10.34  1.66    Male     No  Sun  Dinner     3        0.160542   \n",
       "3       21.01  3.50    Male     No  Sun  Dinner     3        0.166587   \n",
       "4       23.68  3.31    Male     No  Sun  Dinner     2        0.139780   \n",
       "5       24.59  3.61  Female     No  Sun  Dinner     4        0.146808   \n",
       "\n",
       "   price_per_person  \n",
       "1          0.008704  \n",
       "2          0.005297  \n",
       "3          0.010763  \n",
       "4          0.012131  \n",
       "5          0.012597  "
      ]
     },
     "execution_count": 66,
     "metadata": {},
     "output_type": "execute_result"
    }
   ],
   "source": [
    "df.head()"
   ]
  },
  {
   "cell_type": "markdown",
   "id": "7a333c41",
   "metadata": {},
   "source": [
    "### Before using any of the methods discussed in the lesson, which features do you think would be most important for predicting the tip amount? The tip percentage?"
   ]
  },
  {
   "cell_type": "markdown",
   "id": "715f823a",
   "metadata": {},
   "source": [
    "    price_per_person"
   ]
  },
  {
   "cell_type": "markdown",
   "id": "ab0d8016",
   "metadata": {},
   "source": [
    "### Use select k best and recursive feature elimination to select the top 2 features for predicting tip amount. What are they?"
   ]
  },
  {
   "cell_type": "code",
   "execution_count": 67,
   "id": "5a5f963d",
   "metadata": {},
   "outputs": [
    {
     "data": {
      "text/plain": [
       "total_bill          0\n",
       "tip                 0\n",
       "sex                 0\n",
       "smoker              0\n",
       "day                 0\n",
       "time                0\n",
       "size                0\n",
       "tip_percentage      0\n",
       "price_per_person    0\n",
       "dtype: int64"
      ]
     },
     "execution_count": 67,
     "metadata": {},
     "output_type": "execute_result"
    }
   ],
   "source": [
    "df.isnull().sum()"
   ]
  },
  {
   "cell_type": "code",
   "execution_count": 68,
   "id": "9c31c633",
   "metadata": {},
   "outputs": [],
   "source": [
    "cols = ['total_bill', 'tip', 'tip_percentage', 'price_per_person']"
   ]
  },
  {
   "cell_type": "code",
   "execution_count": 69,
   "id": "2fe4380f",
   "metadata": {},
   "outputs": [
    {
     "data": {
      "text/plain": [
       "244"
      ]
     },
     "execution_count": 69,
     "metadata": {},
     "output_type": "execute_result"
    }
   ],
   "source": [
    "len(df)"
   ]
  },
  {
   "cell_type": "code",
   "execution_count": 70,
   "id": "8e6b2690",
   "metadata": {},
   "outputs": [],
   "source": [
    "df = remove_outliers(df, 1.5, cols)"
   ]
  },
  {
   "cell_type": "code",
   "execution_count": 71,
   "id": "f6ed0c8c",
   "metadata": {},
   "outputs": [
    {
     "data": {
      "text/plain": [
       "218"
      ]
     },
     "execution_count": 71,
     "metadata": {},
     "output_type": "execute_result"
    }
   ],
   "source": [
    "len(df)"
   ]
  },
  {
   "cell_type": "code",
   "execution_count": 72,
   "id": "3eb210fe",
   "metadata": {},
   "outputs": [],
   "source": [
    "train_validate, test = train_test_split(df, test_size=.2, random_state=123)\n",
    "train, validate = train_test_split(train_validate, test_size=.3, random_state=123)"
   ]
  },
  {
   "cell_type": "code",
   "execution_count": 73,
   "id": "4dab33cf",
   "metadata": {},
   "outputs": [
    {
     "data": {
      "text/plain": [
       "((121, 9), (53, 9), (44, 9))"
      ]
     },
     "execution_count": 73,
     "metadata": {},
     "output_type": "execute_result"
    }
   ],
   "source": [
    "train.shape, validate.shape, test.shape"
   ]
  },
  {
   "cell_type": "code",
   "execution_count": 80,
   "id": "2280ec30",
   "metadata": {},
   "outputs": [
    {
     "data": {
      "text/plain": [
       "<AxesSubplot:>"
      ]
     },
     "execution_count": 80,
     "metadata": {},
     "output_type": "execute_result"
    },
    {
     "data": {
      "image/png": "[encoded data removed]",
      "text/plain": [
       "<Figure size 432x288 with 1 Axes>"
      ]
     },
     "metadata": {
      "needs_background": "light"
     },
     "output_type": "display_data"
    }
   ],
   "source": [
    "train.total_bill.hist()"
   ]
  },
  {
   "cell_type": "code",
   "execution_count": 75,
   "id": "fa63717c",
   "metadata": {},
   "outputs": [],
   "source": [
    "train, validate, test = add_scaled_columns(train, validate, test, sklearn.preprocessing.MinMaxScaler(), cols)"
   ]
  },
  {
   "cell_type": "code",
   "execution_count": 81,
   "id": "cdecb4ef",
   "metadata": {},
   "outputs": [
    {
     "data": {
      "text/plain": [
       "<AxesSubplot:>"
      ]
     },
     "execution_count": 81,
     "metadata": {},
     "output_type": "execute_result"
    },
    {
     "data": {
      "image/png": "[encoded data removed]",
      "text/plain": [
       "<Figure size 432x288 with 1 Axes>"
      ]
     },
     "metadata": {
      "needs_background": "light"
     },
     "output_type": "display_data"
    }
   ],
   "source": [
    "train.total_bill_scaled.hist()"
   ]
  },
  {
   "cell_type": "code",
   "execution_count": 82,
   "id": "799fc666",
   "metadata": {},
   "outputs": [
    {
     "name": "stdout",
     "output_type": "stream",
     "text": [
      "<class 'pandas.core.frame.DataFrame'>\n",
      "Int64Index: 121 entries, 55 to 15\n",
      "Data columns (total 13 columns):\n",
      " #   Column                   Non-Null Count  Dtype  \n",
      "---  ------                   --------------  -----  \n",
      " 0   total_bill               121 non-null    float64\n",
      " 1   tip                      121 non-null    float64\n",
      " 2   sex                      121 non-null    object \n",
      " 3   smoker                   121 non-null    object \n",
      " 4   day                      121 non-null    object \n",
      " 5   time                     121 non-null    object \n",
      " 6   size                     121 non-null    int64  \n",
      " 7   tip_percentage           121 non-null    float64\n",
      " 8   price_per_person         121 non-null    float64\n",
      " 9   total_bill_scaled        121 non-null    float64\n",
      " 10  tip_scaled               121 non-null    float64\n",
      " 11  tip_percentage_scaled    121 non-null    float64\n",
      " 12  price_per_person_scaled  121 non-null    float64\n",
      "dtypes: float64(8), int64(1), object(4)\n",
      "memory usage: 13.2+ KB\n"
     ]
    }
   ],
   "source": [
    "train.info()"
   ]
  },
  {
   "cell_type": "code",
   "execution_count": 83,
   "id": "20c99551",
   "metadata": {},
   "outputs": [],
   "source": [
    "X_train_scaled = train[['tip_percentage_scaled', 'price_per_person_scaled', 'total_bill_scaled']]\n",
    "y_train = train['tip_scaled']"
   ]
  },
  {
   "cell_type": "markdown",
   "id": "b86b78bd",
   "metadata": {},
   "source": [
    "### Use select k best and recursive feature elimination to select the top 2 features for predicting tip percentage. What are they?"
   ]
  },
  {
   "cell_type": "code",
   "execution_count": 87,
   "id": "1a434675",
   "metadata": {},
   "outputs": [
    {
     "data": {
      "text/plain": [
       "['total_bill_scaled']"
      ]
     },
     "execution_count": 87,
     "metadata": {},
     "output_type": "execute_result"
    }
   ],
   "source": [
    "# parameters: f_regression stats test, give me 8 features\n",
    "f_selector = SelectKBest(f_regression, k=1)\n",
    "\n",
    "# find the top 8 X's correlated with y\n",
    "f_selector.fit(X_train_scaled, y_train)\n",
    "\n",
    "# boolean mask of whether the column was selected or not. \n",
    "feature_mask = f_selector.get_support()\n",
    "\n",
    "# get list of top K features. \n",
    "f_feature = X_train_scaled.iloc[:,feature_mask].columns.tolist()\n",
    "f_feature"
   ]
  },
  {
   "cell_type": "code",
   "execution_count": 89,
   "id": "85800f3d",
   "metadata": {},
   "outputs": [
    {
     "data": {
      "text/plain": [
       "['tip_percentage_scaled', 'total_bill_scaled']"
      ]
     },
     "execution_count": 89,
     "metadata": {},
     "output_type": "execute_result"
    }
   ],
   "source": [
    "# RFE time\n",
    "\n",
    "# Make the thing(s)\n",
    "lm = sklearn.linear_model.LinearRegression()\n",
    "rfe = sklearn.feature_selection.RFE(lm, n_features_to_select=2)\n",
    "\n",
    "# Fit the thing\n",
    "rfe.fit(X_train_scaled, y_train)\n",
    "\n",
    "# use the thing\n",
    "rfe_columns = X_train_scaled.columns[rfe.support_].tolist()\n",
    "rfe_columns"
   ]
  },
  {
   "cell_type": "code",
   "execution_count": 90,
   "id": "174eb653",
   "metadata": {},
   "outputs": [
    {
     "data": {
      "text/plain": [
       "['total_bill_scaled']"
      ]
     },
     "execution_count": 90,
     "metadata": {},
     "output_type": "execute_result"
    }
   ],
   "source": [
    "# RFE time\n",
    "\n",
    "# Make the thing(s)\n",
    "lm = sklearn.linear_model.LinearRegression()\n",
    "rfe = sklearn.feature_selection.RFE(lm, n_features_to_select=1)\n",
    "\n",
    "# Fit the thing\n",
    "rfe.fit(X_train_scaled, y_train)\n",
    "\n",
    "# use the thing\n",
    "rfe_columns = X_train_scaled.columns[rfe.support_].tolist()\n",
    "rfe_columns"
   ]
  },
  {
   "cell_type": "markdown",
   "id": "ce8c0d3c",
   "metadata": {},
   "source": [
    "### Why do you think select k best and recursive feature elimination might give different answers for the top features? Does this change as you change the number of features your are selecting?"
   ]
  },
  {
   "cell_type": "markdown",
   "id": "3d691d25",
   "metadata": {},
   "source": [
    "    Yes it did change when i changed n_features_to_select to 1 from 2"
   ]
  },
  {
   "cell_type": "markdown",
   "id": "34b1d9c1",
   "metadata": {},
   "source": [
    "### Write a function named select_kbest that takes in the predictors (X), the target (y), and the number of features to select (k) and returns the names of the top k selected features based on the SelectKBest class. Test your function with the tips dataset. You should see the same results as when you did the process manually."
   ]
  },
  {
   "cell_type": "code",
   "execution_count": 91,
   "id": "1ceb2791",
   "metadata": {},
   "outputs": [],
   "source": [
    "def select_kbest(X, y, k):\n",
    "    # make the object\n",
    "    kbest = sklearn.feature_selection.SelectKBest(\n",
    "        sklearn.feature_selection.f_regression,\n",
    "        k=k)\n",
    "\n",
    "    # fit the object\n",
    "    kbest.fit(X, y)\n",
    "    \n",
    "    # use the object (.get_support() is that array of booleans to filter the list of column names)\n",
    "    return X.columns[kbest.get_support()].tolist()"
   ]
  },
  {
   "cell_type": "code",
   "execution_count": 92,
   "id": "50a0c1d5",
   "metadata": {},
   "outputs": [
    {
     "data": {
      "text/plain": [
       "['price_per_person_scaled', 'total_bill_scaled']"
      ]
     },
     "execution_count": 92,
     "metadata": {},
     "output_type": "execute_result"
    }
   ],
   "source": [
    "kbest_feats = select_kbest(X_train_scaled, y_train, 2)\n",
    "kbest_feats"
   ]
  },
  {
   "cell_type": "markdown",
   "id": "68cba0ec",
   "metadata": {},
   "source": [
    "### Write a function named rfe that takes in the predictors, the target, and the number of features to select. It should return the top k features based on the RFE class. Test your function with the tips dataset. You should see the same results as when you did the process manually."
   ]
  },
  {
   "cell_type": "code",
   "execution_count": 93,
   "id": "9ed13ec9",
   "metadata": {},
   "outputs": [],
   "source": [
    "def show_features_rankings(X_train, rfe):\n",
    "    \"\"\"\n",
    "    Takes in a dataframe and a fit RFE object in order to output the rank of all features\n",
    "    \"\"\"\n",
    "    # rfe here is reference rfe from cell 15\n",
    "    var_ranks = rfe.ranking_\n",
    "    var_names = X_train.columns.tolist()\n",
    "    ranks = pd.DataFrame({'Var': var_names, 'Rank': var_ranks})\n",
    "    ranks = ranks.sort_values(by=\"Rank\", ascending=True)\n",
    "    return ranks"
   ]
  },
  {
   "cell_type": "code",
   "execution_count": 94,
   "id": "e8e5232d",
   "metadata": {},
   "outputs": [],
   "source": [
    "def select_rfe(X, y, k):\n",
    "    # make the thing\n",
    "    lm = sklearn.linear_model.LinearRegression()\n",
    "    rfe = sklearn.feature_selection.RFE(lm, n_features_to_select=k)\n",
    "\n",
    "    # Fit the thing\n",
    "    rfe.fit(X, y)\n",
    "    \n",
    "    # use the thing\n",
    "    features_to_use = X.columns[rfe.support_].tolist()\n",
    "    \n",
    "    # we need to send show_feature_rankings a trained/fit RFE object\n",
    "    all_rankings = show_features_rankings(X, rfe)\n",
    "    \n",
    "    return features_to_use, all_rankings"
   ]
  },
  {
   "cell_type": "code",
   "execution_count": 96,
   "id": "37e2d133",
   "metadata": {
    "scrolled": false
   },
   "outputs": [
    {
     "data": {
      "text/plain": [
       "(['total_bill_scaled'],\n",
       "                        Var  Rank\n",
       " 2        total_bill_scaled     1\n",
       " 0    tip_percentage_scaled     2\n",
       " 1  price_per_person_scaled     3)"
      ]
     },
     "execution_count": 96,
     "metadata": {},
     "output_type": "execute_result"
    }
   ],
   "source": [
    "select_rfe(X_train_scaled, y_train, 1)"
   ]
  },
  {
   "cell_type": "markdown",
   "id": "925f268c",
   "metadata": {},
   "source": [
    "### Load the swiss dataset and use all the other features to predict Fertility. Find the top 3 features using both select k best and recursive feature elimination (use the functions you just built to help you out)."
   ]
  },
  {
   "cell_type": "code",
   "execution_count": 97,
   "id": "d094bc74",
   "metadata": {},
   "outputs": [
    {
     "data": {
      "text/html": [
       "<div>\n",
       "<style scoped>\n",
       "    .dataframe tbody tr th:only-of-type {\n",
       "        vertical-align: middle;\n",
       "    }\n",
       "\n",
       "    .dataframe tbody tr th {\n",
       "        vertical-align: top;\n",
       "    }\n",
       "\n",
       "    .dataframe thead th {\n",
       "        text-align: right;\n",
       "    }\n",
       "</style>\n",
       "<table border=\"1\" class=\"dataframe\">\n",
       "  <thead>\n",
       "    <tr style=\"text-align: right;\">\n",
       "      <th></th>\n",
       "      <th>Fertility</th>\n",
       "      <th>Agriculture</th>\n",
       "      <th>Examination</th>\n",
       "      <th>Education</th>\n",
       "      <th>Catholic</th>\n",
       "      <th>Infant.Mortality</th>\n",
       "    </tr>\n",
       "  </thead>\n",
       "  <tbody>\n",
       "    <tr>\n",
       "      <th>Courtelary</th>\n",
       "      <td>80.2</td>\n",
       "      <td>17.0</td>\n",
       "      <td>15</td>\n",
       "      <td>12</td>\n",
       "      <td>9.96</td>\n",
       "      <td>22.2</td>\n",
       "    </tr>\n",
       "    <tr>\n",
       "      <th>Delemont</th>\n",
       "      <td>83.1</td>\n",
       "      <td>45.1</td>\n",
       "      <td>6</td>\n",
       "      <td>9</td>\n",
       "      <td>84.84</td>\n",
       "      <td>22.2</td>\n",
       "    </tr>\n",
       "    <tr>\n",
       "      <th>Franches-Mnt</th>\n",
       "      <td>92.5</td>\n",
       "      <td>39.7</td>\n",
       "      <td>5</td>\n",
       "      <td>5</td>\n",
       "      <td>93.40</td>\n",
       "      <td>20.2</td>\n",
       "    </tr>\n",
       "    <tr>\n",
       "      <th>Moutier</th>\n",
       "      <td>85.8</td>\n",
       "      <td>36.5</td>\n",
       "      <td>12</td>\n",
       "      <td>7</td>\n",
       "      <td>33.77</td>\n",
       "      <td>20.3</td>\n",
       "    </tr>\n",
       "    <tr>\n",
       "      <th>Neuveville</th>\n",
       "      <td>76.9</td>\n",
       "      <td>43.5</td>\n",
       "      <td>17</td>\n",
       "      <td>15</td>\n",
       "      <td>5.16</td>\n",
       "      <td>20.6</td>\n",
       "    </tr>\n",
       "  </tbody>\n",
       "</table>\n",
       "</div>"
      ],
      "text/plain": [
       "              Fertility  Agriculture  Examination  Education  Catholic  \\\n",
       "Courtelary         80.2         17.0           15         12      9.96   \n",
       "Delemont           83.1         45.1            6          9     84.84   \n",
       "Franches-Mnt       92.5         39.7            5          5     93.40   \n",
       "Moutier            85.8         36.5           12          7     33.77   \n",
       "Neuveville         76.9         43.5           17         15      5.16   \n",
       "\n",
       "              Infant.Mortality  \n",
       "Courtelary                22.2  \n",
       "Delemont                  22.2  \n",
       "Franches-Mnt              20.2  \n",
       "Moutier                   20.3  \n",
       "Neuveville                20.6  "
      ]
     },
     "execution_count": 97,
     "metadata": {},
     "output_type": "execute_result"
    }
   ],
   "source": [
    "swiss = data('swiss')\n",
    "swiss.head()"
   ]
  },
  {
   "cell_type": "code",
   "execution_count": 99,
   "id": "5dd95433",
   "metadata": {},
   "outputs": [],
   "source": [
    "def split(df, stratify_by=\"\"):\n",
    "    '''\n",
    "    take in a DataFrame and return train, validate, and test DataFrames.\n",
    "    return train, validate, test DataFrames.\n",
    "    '''\n",
    "    train_validate, test = train_test_split(df, test_size=.2, random_state=123)\n",
    "    train, validate = train_test_split(train_validate, \n",
    "                                       test_size=.3, \n",
    "                                       random_state=123)\n",
    "    return train, validate, test"
   ]
  },
  {
   "cell_type": "code",
   "execution_count": 100,
   "id": "a3f46b7b",
   "metadata": {},
   "outputs": [],
   "source": [
    "# Split the data\n",
    "train, validate, test = split(swiss, stratify_by=\"Fertility\")\n",
    "\n",
    "# Setup X and y\n",
    "X_train = train.drop(columns='Fertility')\n",
    "y_train = train.Fertility\n",
    "\n",
    "X_validate = validate.drop(columns='Fertility')\n",
    "y_validate = validate.Fertility\n",
    "\n",
    "X_test = test.drop(columns='Fertility')\n",
    "y_test = test.Fertility"
   ]
  },
  {
   "cell_type": "code",
   "execution_count": 101,
   "id": "22dae6c9",
   "metadata": {},
   "outputs": [],
   "source": [
    "# Scale the data\n",
    "scaler = sklearn.preprocessing.MinMaxScaler()\n",
    "\n",
    "# Fit the scaler\n",
    "scaler.fit(X_train)\n",
    "\n",
    "# Use the scaler to transform train, validate, test\n",
    "X_train_scaled = scaler.transform(X_train)\n",
    "X_validate_scaled = scaler.transform(X_validate)\n",
    "X_test_scaled = scaler.transform(X_test)\n",
    "\n",
    "\n",
    "# Turn everything into a dataframe\n",
    "X_train_scaled = pd.DataFrame(X_train_scaled, columns=X_train.columns)\n",
    "X_validate_scaled = pd.DataFrame(X_validate_scaled, columns=X_train.columns)\n",
    "X_test_scaled = pd.DataFrame(X_test_scaled, columns=X_train.columns)"
   ]
  },
  {
   "cell_type": "code",
   "execution_count": 102,
   "id": "dc3d7451",
   "metadata": {},
   "outputs": [
    {
     "data": {
      "text/plain": [
       "['Examination', 'Catholic', 'Infant.Mortality']"
      ]
     },
     "execution_count": 102,
     "metadata": {},
     "output_type": "execute_result"
    }
   ],
   "source": [
    "select_kbest(X_train_scaled, y_train, 3)"
   ]
  },
  {
   "cell_type": "code",
   "execution_count": 103,
   "id": "49800a35",
   "metadata": {},
   "outputs": [
    {
     "name": "stdout",
     "output_type": "stream",
     "text": [
      "['Agriculture', 'Examination', 'Infant.Mortality']\n"
     ]
    },
    {
     "data": {
      "text/html": [
       "<div>\n",
       "<style scoped>\n",
       "    .dataframe tbody tr th:only-of-type {\n",
       "        vertical-align: middle;\n",
       "    }\n",
       "\n",
       "    .dataframe tbody tr th {\n",
       "        vertical-align: top;\n",
       "    }\n",
       "\n",
       "    .dataframe thead th {\n",
       "        text-align: right;\n",
       "    }\n",
       "</style>\n",
       "<table border=\"1\" class=\"dataframe\">\n",
       "  <thead>\n",
       "    <tr style=\"text-align: right;\">\n",
       "      <th></th>\n",
       "      <th>Var</th>\n",
       "      <th>Rank</th>\n",
       "    </tr>\n",
       "  </thead>\n",
       "  <tbody>\n",
       "    <tr>\n",
       "      <th>0</th>\n",
       "      <td>Agriculture</td>\n",
       "      <td>1</td>\n",
       "    </tr>\n",
       "    <tr>\n",
       "      <th>1</th>\n",
       "      <td>Examination</td>\n",
       "      <td>1</td>\n",
       "    </tr>\n",
       "    <tr>\n",
       "      <th>4</th>\n",
       "      <td>Infant.Mortality</td>\n",
       "      <td>1</td>\n",
       "    </tr>\n",
       "    <tr>\n",
       "      <th>2</th>\n",
       "      <td>Education</td>\n",
       "      <td>2</td>\n",
       "    </tr>\n",
       "    <tr>\n",
       "      <th>3</th>\n",
       "      <td>Catholic</td>\n",
       "      <td>3</td>\n",
       "    </tr>\n",
       "  </tbody>\n",
       "</table>\n",
       "</div>"
      ],
      "text/plain": [
       "                Var  Rank\n",
       "0       Agriculture     1\n",
       "1       Examination     1\n",
       "4  Infant.Mortality     1\n",
       "2         Education     2\n",
       "3          Catholic     3"
      ]
     },
     "execution_count": 103,
     "metadata": {},
     "output_type": "execute_result"
    }
   ],
   "source": [
    "# Find the top 3 features using RFE\n",
    "selected_features, all_rankings = select_rfe(X_train, y_train, 3)\n",
    "print(selected_features)\n",
    "all_rankings"
   ]
  }
 ],
 "metadata": {
  "kernelspec": {
   "display_name": "Python 3",
   "language": "python",
   "name": "python3"
  },
  "language_info": {
   "codemirror_mode": {
    "name": "ipython",
    "version": 3
   },
   "file_extension": ".py",
   "mimetype": "text/x-python",
   "name": "python",
   "nbconvert_exporter": "python",
   "pygments_lexer": "ipython3",
   "version": "3.8.8"
  }
 },
 "nbformat": 4,
 "nbformat_minor": 5
}
